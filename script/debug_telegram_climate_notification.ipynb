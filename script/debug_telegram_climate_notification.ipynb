{
 "cells": [
  {
   "cell_type": "code",
   "execution_count": 1,
   "id": "be028c0b",
   "metadata": {},
   "outputs": [],
   "source": [
    "import pandas as pd\n",
    "import requests\n",
    "from datetime import date\n",
    "import os\n",
    "import re"
   ]
  },
  {
   "cell_type": "code",
   "execution_count": null,
   "id": "0a3378b6",
   "metadata": {},
   "outputs": [],
   "source": [
    "''' Requirements '''\n",
    "\n",
    "LATITUDE = '40.561538'\n",
    "LONGITUDE = '-3.623315'\n",
    "ID_CITY = '28134' # San Sebastian de los reyes\n",
    "\n",
    "today = date.today()\n",
    "TODAY_ISO = today.isoformat()\n",
    "TODAY_FORMATTED = today.strftime('%d/%m/%Y')"
   ]
  },
  {
   "cell_type": "code",
   "execution_count": 4,
   "id": "73d61339",
   "metadata": {},
   "outputs": [],
   "source": [
    "''' Credentials'''\n",
    "def read_credentials():\n",
    "    file_path = os.path.join(os.path.dirname(os.getcwd()),'credentials','credentials.csv')\n",
    "    df  = pd.read_csv(file_path, sep=',')\n",
    "    API_KEY_OW      = df['api-key'][df['platform']=='openweather'].iloc[0]\n",
    "    API_KEY_AEMET   = df['api-key'][df['platform']=='aemet'].iloc[0]\n",
    "    del df\n",
    "    return API_KEY_OW, API_KEY_AEMET\n",
    "\n",
    "def get_gofrinator_credentials():\n",
    "    file_path = os.path.join(os.path.dirname(os.getcwd()),'credentials','telegram_gofrinator.csv')\n",
    "    df  = pd.read_csv(file_path, sep=',')\n",
    "    TOKEN      = df['value'][df['item']=='token'].iloc[0]\n",
    "    CHAT_ID    = df['value'][df['item']=='chat-id'].iloc[0]\n",
    "    del df\n",
    "    return TOKEN, CHAT_ID"
   ]
  },
  {
   "cell_type": "code",
   "execution_count": 5,
   "id": "d8eee8e9",
   "metadata": {},
   "outputs": [],
   "source": [
    "API_KEY_OW, API_KEY_AEMET = read_credentials()\n",
    "TOKEN, CHAT_ID = get_gofrinator_credentials()"
   ]
  },
  {
   "cell_type": "markdown",
   "id": "dca54be1",
   "metadata": {},
   "source": [
    "**GET WEATHER NOW - OPEN WEATHER**"
   ]
  },
  {
   "cell_type": "code",
   "execution_count": 6,
   "id": "378ada16",
   "metadata": {},
   "outputs": [],
   "source": [
    "def current_weather(LATITUDE, LONGITUDE, API_KEY_OW):\n",
    "    url = f'https://api.openweathermap.org/data/2.5/weather?lat={LATITUDE}&lon={LONGITUDE}&units=metric&appid={API_KEY_OW}'\n",
    "    r = requests.get(url)\n",
    "    data = r.json()\n",
    "    TEMP = str(data['main']['temp'])+'°C'\n",
    "    FEEL = str(data['main']['feels_like'])+'°C'\n",
    "    HUMD = str(data['main']['humidity'])+'%'\n",
    "    WIND = str(data['wind']['speed'])+' km/h'\n",
    "    SKY = str(data['weather'][0]['description'])\n",
    "    return TEMP, FEEL, WIND, HUMD, SKY\n",
    "\n"
   ]
  },
  {
   "cell_type": "code",
   "execution_count": 7,
   "id": "bf296751",
   "metadata": {},
   "outputs": [],
   "source": [
    "def get_prob_precipitacion(probPrecipitacion):\n",
    "    probs = []\n",
    "    for i in range(len(probPrecipitacion)):\n",
    "        if 'value' in probPrecipitacion[i] and probPrecipitacion[i]['value'] > 0:\n",
    "            probs.append(\n",
    "                str(probPrecipitacion[i]['periodo']) +\n",
    "                ': ' + str(probPrecipitacion[i]['value']) + '%'\n",
    "            )\n",
    "    return probs"
   ]
  },
  {
   "cell_type": "code",
   "execution_count": 8,
   "id": "916b2803",
   "metadata": {},
   "outputs": [],
   "source": [
    "def forecast_weather(ID_CITY, API_KEY_AEMET):\n",
    "    url = f'https://opendata.aemet.es/opendata/api/prediccion/especifica/municipio/diaria/{ID_CITY}/?api_key={API_KEY_AEMET}'\n",
    "    r = requests.get(url)\n",
    "    response = r.json()\n",
    "    url = response['datos']\n",
    "    data = requests.get(url).json()\n",
    "    days = data[0]['prediccion']['dia']\n",
    "    for day in days:\n",
    "        if day['fecha'].startswith(TODAY_ISO):\n",
    "            \n",
    "            prob_precipitacion = day.get('probPrecipitacion', [])\n",
    "            PROBS = get_prob_precipitacion(prob_precipitacion)\n",
    "\n",
    "            temps_all = day['temperatura']['dato']\n",
    "            TEMPS = [(str(t['hora']) + ':00: ' + str(t['value']) + '°C') for t in temps_all]\n",
    "            \n",
    "            senstermica_all = day['sensTermica']['dato']\n",
    "            FEELTERM = [(str(t['hora']) + ':00: ' + str(t['value']) + '°C') for t in senstermica_all]\n",
    "            break\n",
    "    del prob_precipitacion\n",
    "    del temps_all\n",
    "    del senstermica_all\n",
    "    return FEELTERM, TEMPS, PROBS\n"
   ]
  },
  {
   "cell_type": "code",
   "execution_count": null,
   "id": "d5f78888",
   "metadata": {},
   "outputs": [],
   "source": [
    "def emoji_status(SKY):\n",
    "    status = SKY.lower()\n",
    "    if \"clear\" in status:\n",
    "        return \"☀️\"\n",
    "    elif \"few clouds\" in status:\n",
    "        return \"🌤️\"\n",
    "    elif \"scattered clouds\" in status:\n",
    "        return \"⛅\"\n",
    "    elif \"broken clouds\" in status:\n",
    "        return \"🌥️\"\n",
    "    elif \"overcast clouds\" in status:\n",
    "        return \"☁️\"\n",
    "    elif \"shower rain\" in status or \"light rain\" in status:\n",
    "        return \"🌦️\"\n",
    "    elif \"rain\" in status:\n",
    "        return \"🌧️\"\n",
    "    elif \"thunderstorm\" in status:\n",
    "        return \"⛈️\"\n",
    "    elif \"snow\" in status:\n",
    "        return \"❄️\"\n",
    "    elif \"mist\" in status or \"fog\" in status:\n",
    "        return \"🌫️\"\n",
    "    else:\n",
    "        return \"🌈\""
   ]
  },
  {
   "cell_type": "code",
   "execution_count": null,
   "id": "70d87a4b",
   "metadata": {},
   "outputs": [],
   "source": [
    "def formatear_mensaje_tiempo(TODAY_ISO, TEMP, FEEL, WIND, HUMD, SKY, TEMPS, FEELTERM, PROBS):\n",
    "    EMOJI_SKY = emoji_status(SKY)\n",
    "\n",
    "    message =f\"\"\"\n",
    "    {EMOJI_SKY} Buenos días! {EMOJI_SKY}\n",
    "\n",
    "⏰ El tiempo ahora ⏰\n",
    "\n",
    "{EMOJI_SKY} Estado del cielo: <b>{SKY}</b>\n",
    "🌡️ Temperatura: <b>{TEMP}</b>\n",
    "🤒 Sensación térmica: <b>{FEEL}</b>\n",
    "💨 Viento: <b>{WIND}</b>\n",
    "💧 Humedad: <b>{HUMD}</b>\n",
    "\n",
    "📅 Pronóstico para hoy 📅\n",
    "\n",
    "🌡️ Temperatura 🌡️\\n\n",
    "\"\"\"\n",
    "    for t in TEMPS:\n",
    "        message += f\"<b>{t}</b>\\n\"\n",
    "\n",
    "    message += \"\\n🤒 Sensación térmica 🤒\\n\\n\"\n",
    "    for s in FEELTERM:\n",
    "        message += f\"<b>{s}</b>\\n\"\n",
    "\n",
    "    message += \"\\n🌧️ Probabilidad de lluvia 🌧️\\n\"\n",
    "    for p in PROBS:\n",
    "        message += f\"<b>{p}</b>\\n\"\n",
    "\n",
    "    return message"
   ]
  },
  {
   "cell_type": "code",
   "execution_count": 12,
   "id": "d0c5598f",
   "metadata": {},
   "outputs": [],
   "source": [
    "# def telegram_notify(message):\n",
    "#     url = f\"https://api.telegram.org/bot{TOKEN}/sendMessage\"\n",
    "#     params = {\"chat_id\": CHAT_ID, \"text\": message}\n",
    "#     requests.get(url, params=params)\n",
    "\n",
    "def telegram_notify(MESSAGE,TOKEN, CHAT_ID):\n",
    "    url = f\"https://api.telegram.org/bot{TOKEN}/sendMessage\"\n",
    "    params = {\n",
    "        \"chat_id\": CHAT_ID,\n",
    "        \"text\": MESSAGE,\n",
    "        \"parse_mode\": \"HTML\"\n",
    "    }\n",
    "    requests.get(url, params=params)"
   ]
  },
  {
   "cell_type": "code",
   "execution_count": 16,
   "id": "bb9c408f",
   "metadata": {},
   "outputs": [],
   "source": [
    "N_TEMP, N_FEEL, N_WIND, N_HUMD, N_SKY = current_weather(LATITUDE, LONGITUDE, API_KEY_OW)\n",
    "F_FEELTERM, F_TEMPS, F_PROBS = forecast_weather(ID_CITY, API_KEY_AEMET)\n",
    "MESSAGE = formatear_mensaje_tiempo(TODAY_FORMATTED, N_TEMP, N_FEEL, N_WIND, N_HUMD, N_SKY, F_TEMPS, F_FEELTERM, F_PROBS)"
   ]
  },
  {
   "cell_type": "code",
   "execution_count": 17,
   "id": "1ae44de0",
   "metadata": {},
   "outputs": [],
   "source": [
    "telegram_notify(MESSAGE,TOKEN, CHAT_ID)"
   ]
  }
 ],
 "metadata": {
  "kernelspec": {
   "display_name": "vp313",
   "language": "python",
   "name": "python3"
  },
  "language_info": {
   "codemirror_mode": {
    "name": "ipython",
    "version": 3
   },
   "file_extension": ".py",
   "mimetype": "text/x-python",
   "name": "python",
   "nbconvert_exporter": "python",
   "pygments_lexer": "ipython3",
   "version": "3.13.3"
  }
 },
 "nbformat": 4,
 "nbformat_minor": 5
}
