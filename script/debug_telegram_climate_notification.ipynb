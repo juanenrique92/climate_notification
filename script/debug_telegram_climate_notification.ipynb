{
 "cells": [
  {
   "cell_type": "code",
   "execution_count": 1,
   "id": "1e0d4b9a",
   "metadata": {},
   "outputs": [],
   "source": [
    "''' Requirements '''\n",
    "import pandas as pd\n",
    "import requests\n",
    "from datetime import date\n",
    "import os"
   ]
  },
  {
   "cell_type": "code",
   "execution_count": 5,
   "id": "c81f79c6",
   "metadata": {},
   "outputs": [
    {
     "data": {
      "text/plain": [
       "['9326640', '7528746523']"
      ]
     },
     "execution_count": 5,
     "metadata": {},
     "output_type": "execute_result"
    }
   ],
   "source": [
    "file_path = os.path.join(os.path.dirname(os.getcwd()),'credentials','telegram_gofrinator.csv')\n",
    "df  = pd.read_csv(file_path, sep=',')\n",
    "TOKEN      = df['value'][df['item']=='token'].iloc[0]\n",
    "CHAT_ID    = df['value'][df['item']=='chat-id'].tolist()\n",
    "CHAT_ID\n"
   ]
  },
  {
   "cell_type": "code",
   "execution_count": 4,
   "id": "d6cca414",
   "metadata": {},
   "outputs": [
    {
     "data": {
      "text/plain": [
       "pandas.core.series.Series"
      ]
     },
     "execution_count": 4,
     "metadata": {},
     "output_type": "execute_result"
    }
   ],
   "source": [
    "type(CHAT_ID)"
   ]
  },
  {
   "cell_type": "code",
   "execution_count": 1,
   "id": "d23665b2",
   "metadata": {},
   "outputs": [],
   "source": [
    "''' Requirements '''\n",
    "import pandas as pd\n",
    "import requests\n",
    "from datetime import date\n",
    "import os\n",
    "\n",
    "\n",
    "''' Parameters '''\n",
    "\n",
    "LATITUDE = '40.561538'\n",
    "LONGITUDE = '-3.623315'\n",
    "ID_CITY = '28134' # San Sebastian de los reyes\n",
    "\n",
    "today = date.today()\n",
    "TODAY_ISO = today.isoformat()\n",
    "TODAY_FORMATTED = today.strftime('%d/%m/%Y')\n",
    "\n",
    "''' Credentials'''\n",
    "\n",
    "def read_credentials():\n",
    "    file_path = os.path.join(os.path.dirname(os.getcwd()),'credentials','credentials.csv')\n",
    "    df  = pd.read_csv(file_path, sep=',')\n",
    "    API_KEY_OW      = df['api-key'][df['platform']=='openweather'].iloc[0]\n",
    "    API_KEY_AEMET   = df['api-key'][df['platform']=='aemet'].iloc[0]\n",
    "    del df\n",
    "    return API_KEY_OW, API_KEY_AEMET\n",
    "\n",
    "def get_gofrinator_credentials():\n",
    "    file_path = os.path.join(os.path.dirname(os.getcwd()),'credentials','telegram_gofrinator.csv')\n",
    "    df  = pd.read_csv(file_path, sep=',')\n",
    "    TOKEN      = df['value'][df['item']=='token'].iloc[0]\n",
    "    CHAT_ID    = df['value'][df['item']=='chat-id'].tolist()\n",
    "    del df\n",
    "    return TOKEN, CHAT_ID\n",
    "\n",
    "\n",
    "def current_weather(LATITUDE, LONGITUDE, API_KEY_OW):\n",
    "    url = f'https://api.openweathermap.org/data/2.5/weather?lat={LATITUDE}&lon={LONGITUDE}&units=metric&appid={API_KEY_OW}'\n",
    "    r = requests.get(url)\n",
    "    data = r.json()\n",
    "    TEMP = str(data['main']['temp'])+'°C'\n",
    "    FEEL = str(data['main']['feels_like'])+'°C'\n",
    "    HUMD = str(data['main']['humidity'])+'%'\n",
    "    WIND = str(data['wind']['speed'])+' km/h'\n",
    "    SKY = str(data['weather'][0]['description'])\n",
    "    return TEMP, FEEL, WIND, HUMD, SKY\n",
    "\n",
    "\n",
    "def get_prob_precipitacion(probPrecipitacion):\n",
    "    probs = []\n",
    "    for i in range(len(probPrecipitacion)):\n",
    "        if 'value' in probPrecipitacion[i] and probPrecipitacion[i]['value'] > 0:\n",
    "            probs.append(\n",
    "                str(probPrecipitacion[i]['periodo']) +\n",
    "                ': ' + str(probPrecipitacion[i]['value']) + '%'\n",
    "            )\n",
    "    return probs\n",
    "\n",
    "def forecast_weather(ID_CITY, API_KEY_AEMET):\n",
    "    url = f'https://opendata.aemet.es/opendata/api/prediccion/especifica/municipio/diaria/{ID_CITY}/?api_key={API_KEY_AEMET}'\n",
    "    r = requests.get(url)\n",
    "    response = r.json()\n",
    "    url = response['datos']\n",
    "    data = requests.get(url).json()\n",
    "    days = data[0]['prediccion']['dia']\n",
    "    for day in days:\n",
    "        if day['fecha'].startswith(TODAY_ISO):\n",
    "            \n",
    "            prob_precipitacion = day.get('probPrecipitacion', [])\n",
    "            PROBS = get_prob_precipitacion(prob_precipitacion)\n",
    "\n",
    "            temps_all = day['temperatura']['dato']\n",
    "            TEMPS = [(str(t['hora']) + ':00: ' + str(t['value']) + '°C') for t in temps_all]\n",
    "            \n",
    "            senstermica_all = day['sensTermica']['dato']\n",
    "            FEELTERM = [(str(t['hora']) + ':00: ' + str(t['value']) + '°C') for t in senstermica_all]\n",
    "            break\n",
    "    del prob_precipitacion\n",
    "    del temps_all\n",
    "    del senstermica_all\n",
    "    return FEELTERM, TEMPS, PROBS\n",
    "\n",
    "def emoji_status(SKY):\n",
    "    status = SKY.lower()\n",
    "    if \"clear\" in status:\n",
    "        return \"☀️\"\n",
    "    elif \"few clouds\" in status:\n",
    "        return \"🌤️\"\n",
    "    elif \"scattered clouds\" in status:\n",
    "        return \"⛅\"\n",
    "    elif \"broken clouds\" in status:\n",
    "        return \"🌥️\"\n",
    "    elif \"overcast clouds\" in status:\n",
    "        return \"☁️\"\n",
    "    elif \"shower rain\" in status or \"light rain\" in status:\n",
    "        return \"🌦️\"\n",
    "    elif \"rain\" in status:\n",
    "        return \"🌧️\"\n",
    "    elif \"thunderstorm\" in status:\n",
    "        return \"⛈️\"\n",
    "    elif \"snow\" in status:\n",
    "        return \"❄️\"\n",
    "    elif \"mist\" in status or \"fog\" in status:\n",
    "        return \"🌫️\"\n",
    "    else:\n",
    "        return \"🌈\"\n",
    "\n",
    "def formatear_mensaje_tiempo(TODAY_ISO, TEMP, FEEL, WIND, HUMD, SKY, TEMPS, FEELTERM, PROBS):\n",
    "    EMOJI_SKY = emoji_status(SKY)\n",
    "\n",
    "    message =f\"\"\"\n",
    "    {EMOJI_SKY} Buenos días! {EMOJI_SKY}\n",
    "\n",
    "⏰ El tiempo ahora ⏰\n",
    "\n",
    "{EMOJI_SKY} Estado del cielo: <b>{SKY}</b>\n",
    "🌡️ Temperatura: <b>{TEMP}</b>\n",
    "🤒 Sensación térmica: <b>{FEEL}</b>\n",
    "💨 Viento: <b>{WIND}</b>\n",
    "💧 Humedad: <b>{HUMD}</b>\n",
    "\n",
    "📅 Pronóstico para hoy 📅\n",
    "\n",
    "🌡️ Temperatura 🌡️\\n\n",
    "\"\"\"\n",
    "    for t in TEMPS:\n",
    "        message += f\"<b>{t}</b>\\n\"\n",
    "\n",
    "    message += \"\\n🤒 Sensación térmica 🤒\\n\\n\"\n",
    "    for s in FEELTERM:\n",
    "        message += f\"<b>{s}</b>\\n\"\n",
    "\n",
    "    message += \"\\n🌧️ Probabilidad de lluvia 🌧️\\n\"\n",
    "    for p in PROBS:\n",
    "        message += f\"<b>{p}</b>\\n\"\n",
    "\n",
    "    return message\n",
    "\n",
    "\n",
    "def telegram_notify(MESSAGE,TOKEN, CHAT_ID):\n",
    "    for u in CHAT_ID:\n",
    "        url = f\"https://api.telegram.org/bot{TOKEN}/sendMessage\"\n",
    "        # print(url)\n",
    "        params = {\n",
    "            \"chat_id\": u,\n",
    "            \"text\": MESSAGE,\n",
    "            \"parse_mode\": \"HTML\"\n",
    "        }\n",
    "        requests.get(url, params=params)"
   ]
  },
  {
   "cell_type": "code",
   "execution_count": 2,
   "id": "5b1875d2",
   "metadata": {},
   "outputs": [],
   "source": [
    "API_KEY_OW, API_KEY_AEMET = read_credentials()\n",
    "TOKEN, CHAT_ID = get_gofrinator_credentials()"
   ]
  },
  {
   "cell_type": "code",
   "execution_count": 3,
   "id": "c9077a01",
   "metadata": {},
   "outputs": [],
   "source": [
    "N_TEMP, N_FEEL, N_WIND, N_HUMD, N_SKY = current_weather(LATITUDE, LONGITUDE, API_KEY_OW)\n"
   ]
  },
  {
   "cell_type": "code",
   "execution_count": 4,
   "id": "8f853125",
   "metadata": {},
   "outputs": [],
   "source": [
    "F_FEELTERM, F_TEMPS, F_PROBS = forecast_weather(ID_CITY, API_KEY_AEMET)\n"
   ]
  },
  {
   "cell_type": "code",
   "execution_count": 5,
   "id": "041d3a1d",
   "metadata": {},
   "outputs": [],
   "source": [
    "MESSAGE = formatear_mensaje_tiempo(TODAY_FORMATTED, N_TEMP, N_FEEL, N_WIND, N_HUMD, N_SKY, F_TEMPS, F_FEELTERM, F_PROBS)\n"
   ]
  },
  {
   "cell_type": "code",
   "execution_count": 6,
   "id": "3820ce6a",
   "metadata": {},
   "outputs": [],
   "source": [
    "telegram_notify(MESSAGE,TOKEN, CHAT_ID)"
   ]
  }
 ],
 "metadata": {
  "kernelspec": {
   "display_name": "vp313",
   "language": "python",
   "name": "python3"
  },
  "language_info": {
   "codemirror_mode": {
    "name": "ipython",
    "version": 3
   },
   "file_extension": ".py",
   "mimetype": "text/x-python",
   "name": "python",
   "nbconvert_exporter": "python",
   "pygments_lexer": "ipython3",
   "version": "3.13.3"
  }
 },
 "nbformat": 4,
 "nbformat_minor": 5
}
